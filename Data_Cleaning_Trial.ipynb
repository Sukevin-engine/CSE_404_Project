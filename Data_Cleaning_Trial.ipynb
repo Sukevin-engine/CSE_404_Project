{
 "cells": [
  {
   "cell_type": "code",
   "execution_count": null,
   "id": "b7d3007d",
   "metadata": {},
   "outputs": [],
   "source": [
    "# All Necessry Packages\n",
    "import os\n",
    "import pandas as pd\n",
    "from PIL import Image  # Make sure you have the PIL/Pillow library installed\n",
    "import numpy as np\n",
    "# Packages used for testing\n",
    "import time\n",
    "import matplotlib.pyplot as plt"
   ]
  },
  {
   "cell_type": "code",
   "execution_count": 1,
   "id": "e5701bd0",
   "metadata": {},
   "outputs": [],
   "source": [
    "### List of the Folder\n",
    "###(Includes: 'Achaemenid architecture','American craftsman style', 'American Foursquare architecture', 'Ancient Egyptian architecture', 'Art Deco architecture')\n",
    "folder_paths = ['Achaemenid architecture','American craftsman style', 'American Foursquare architecture', 'Ancient Egyptian architecture', 'Art Deco architecture']"
   ]
  },
  {
   "cell_type": "code",
   "execution_count": null,
   "id": "c88c7095",
   "metadata": {},
   "outputs": [],
   "source": [
    "start = time.time()\n",
    "data = []\n",
    "\n",
    "for folder in folder_paths:\n",
    "    for root, dirs, files in os.walk(folder):\n",
    "        for file in files:\n",
    "            if file.lower().endswith('.jpg'):\n",
    "                folder_name = os.path.basename(root)\n",
    "                file_path = os.path.join(root, file)\n",
    "\n",
    "                # Open the image and convert it to a NumPy array\n",
    "                with Image.open(file_path) as img:\n",
    "                    img_array = np.array(img)\n",
    "\n",
    "                data.append((folder_name, img_array))\n",
    "\n",
    "df = pd.DataFrame(data, columns=['FolderName', 'ImageData'])\n",
    "end = time.time()"
   ]
  },
  {
   "cell_type": "code",
   "execution_count": null,
   "id": "9205be07",
   "metadata": {},
   "outputs": [],
   "source": [
    "df['ImageData'][0]\n",
    "array_2d = np.array(df['ImageData'][0])\n",
    "\n",
    "# Check the shape of the 2D array\n",
    "shape_of_array = array_2d.shape\n",
    "print(shape_of_array)"
   ]
  },
  {
   "cell_type": "code",
   "execution_count": null,
   "id": "73a463c6",
   "metadata": {},
   "outputs": [],
   "source": [
    "# Display the 2D array as an image\n",
    "plt.imshow(df['ImageData'][0], cmap='gray')  # 'gray' colormap for grayscale images\n",
    "plt.title('2D Array as Image')\n",
    "plt.axis('off')  # Hide the axis\n",
    "plt.show()"
   ]
  }
 ],
 "metadata": {
  "kernelspec": {
   "display_name": "Python 3.8",
   "language": "python",
   "name": "python3"
  },
  "language_info": {
   "codemirror_mode": {
    "name": "ipython",
    "version": 3
   },
   "file_extension": ".py",
   "mimetype": "text/x-python",
   "name": "python",
   "nbconvert_exporter": "python",
   "pygments_lexer": "ipython3",
   "version": "3.8.8"
  }
 },
 "nbformat": 4,
 "nbformat_minor": 5
}
