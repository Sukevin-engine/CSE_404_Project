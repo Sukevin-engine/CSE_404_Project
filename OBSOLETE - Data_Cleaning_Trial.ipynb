{
 "cells": [
  {
   "cell_type": "code",
   "execution_count": 1,
   "id": "b7d3007d",
   "metadata": {},
   "outputs": [],
   "source": [
    "# All Necessry Packages\n",
    "import os\n",
    "import pandas as pd\n",
    "from PIL import Image  # Make sure you have the PIL/Pillow library installed\n",
    "import numpy as np\n",
    "# Packages used for testing\n",
    "import time\n",
    "import matplotlib.pyplot as plt"
   ]
  },
  {
   "cell_type": "code",
   "execution_count": 4,
   "id": "e5701bd0",
   "metadata": {},
   "outputs": [
    {
     "name": "stdout",
     "output_type": "stream",
     "text": [
      "23\n"
     ]
    }
   ],
   "source": [
    "### List of the Folder\n",
    "###(Includes: 'Achaemenid architecture','American craftsman style', 'American Foursquare architecture', 'Ancient Egyptian architecture', 'Art Deco architecture', 'Art Nouveau architecture', 'Baroque architecture', 'Bauhaus architecture', 'Beaux-Arts architecture', 'Byzantine architecture', 'Chicago school architecture', 'Colonial architecture', 'Deconstructivism', 'Edwardian architecture', 'Georgian architecture', 'Gothic architecture', 'Greek Revival architecture', 'International style', 'Novelty architecture', 'Palladian architecture', 'Postmodern architecture', 'Queen Anne architecture', 'Romanesque architecture')\n",
    "folder_paths = ['Achaemenid architecture','American craftsman style', 'American Foursquare architecture', 'Ancient Egyptian architecture', 'Art Deco architecture', 'Art Nouveau architecture', 'Baroque architecture', 'Bauhaus architecture', 'Beaux-Arts architecture', 'Byzantine architecture', 'Chicago school architecture', 'Colonial architecture', 'Deconstructivism', 'Edwardian architecture', 'Georgian architecture', 'Gothic architecture', 'Greek Revival architecture', 'International style', 'Novelty architecture', 'Palladian architecture', 'Postmodern architecture', 'Queen Anne architecture', 'Romanesque architecture' ]\n",
    "print(len(folder_paths))"
   ]
  },
  {
   "cell_type": "code",
   "execution_count": 3,
   "id": "c88c7095",
   "metadata": {},
   "outputs": [],
   "source": [
    "start = time.time()\n",
    "data = []\n",
    "\n",
    "for folder in folder_paths:\n",
    "    for root, dirs, files in os.walk(folder):\n",
    "        for file in files:\n",
    "            if file.lower().endswith('.jpg'):\n",
    "                folder_name = os.path.basename(root)\n",
    "                file_path = os.path.join(root, file)\n",
    "\n",
    "                # Open the image and convert it to a NumPy array\n",
    "                with Image.open(file_path) as img:\n",
    "                    img_array = np.array(img)\n",
    "\n",
    "                data.append((folder_name, img_array))\n",
    "\n",
    "df = pd.DataFrame(data, columns=['FolderName', 'ImageData'])\n",
    "end = time.time()"
   ]
  },
  {
   "cell_type": "code",
   "execution_count": 6,
   "id": "25725089",
   "metadata": {},
   "outputs": [
    {
     "name": "stdout",
     "output_type": "stream",
     "text": [
      "78.4527599811554 seconds\n"
     ]
    }
   ],
   "source": [
    "print(end - start, \"seconds\")"
   ]
  },
  {
   "cell_type": "code",
   "execution_count": null,
   "id": "9205be07",
   "metadata": {},
   "outputs": [],
   "source": [
    "df['ImageData'][0]\n",
    "array_2d = np.array(df['ImageData'][0])\n",
    "\n",
    "# Check the shape of the 2D array\n",
    "shape_of_array = array_2d.shape\n",
    "print(shape_of_array)"
   ]
  },
  {
   "cell_type": "code",
   "execution_count": null,
   "id": "73a463c6",
   "metadata": {},
   "outputs": [],
   "source": [
    "# Display the 2D array as an image\n",
    "plt.imshow(df['ImageData'][0], cmap='gray')  # 'gray' colormap for grayscale images\n",
    "plt.title('2D Array as Image')\n",
    "plt.axis('off')  # Hide the axis\n",
    "plt.show()"
   ]
  }
 ],
 "metadata": {
  "kernelspec": {
   "display_name": "Python 3 (ipykernel)",
   "language": "python",
   "name": "python3"
  },
  "language_info": {
   "codemirror_mode": {
    "name": "ipython",
    "version": 3
   },
   "file_extension": ".py",
   "mimetype": "text/x-python",
   "name": "python",
   "nbconvert_exporter": "python",
   "pygments_lexer": "ipython3",
   "version": "3.11.5"
  }
 },
 "nbformat": 4,
 "nbformat_minor": 5
}
